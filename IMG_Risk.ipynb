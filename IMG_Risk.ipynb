{
 "cells": [
  {
   "cell_type": "markdown",
   "metadata": {},
   "source": [
    "# Baruch IMG Portfolio Management Risk"
   ]
  },
  {
   "cell_type": "code",
   "execution_count": 2,
   "metadata": {},
   "outputs": [],
   "source": [
    "# Data manipulation \n",
    "import numpy as np\n",
    "import pandas as pd\n",
    "\n",
    "# Plotting\n",
    "import seaborn as sns\n",
    "import matplotlib.pyplot\n",
    "%matplotlib inline \n",
    "\n",
    "# Stock pulling  \n",
    "from alpha_vantage.timeseries import TimeSeries"
   ]
  },
  {
   "cell_type": "markdown",
   "metadata": {},
   "source": [
    "For more information on the alpha_vantage api or the python wrapper feel free to read the documentation provided\n",
    "- API Docs https://www.alphavantage.co/documentation/\n",
    "- Python Wrapper by Romel https://github.com/RomelTorres/alpha_vantage\n"
   ]
  },
  {
   "cell_type": "code",
   "execution_count": 9,
   "metadata": {},
   "outputs": [],
   "source": [
    "api_key = \"111\" #Alpha vantage api-key recieived throguh the service"
   ]
  },
  {
   "cell_type": "markdown",
   "metadata": {},
   "source": [
    "## Risk Management Helper Functions "
   ]
  },
  {
   "cell_type": "code",
   "execution_count": 13,
   "metadata": {},
   "outputs": [],
   "source": [
    "data_columns = ['1. open', '2. high', '3. low', '4. close', '5. adjusted close', \n",
    "                '6. volume', '7. dividend amount', '8. split coefficient']"
   ]
  },
  {
   "cell_type": "code",
   "execution_count": 10,
   "metadata": {},
   "outputs": [],
   "source": [
    "def stock_puller(ticker_list: list, col: str, frequency: str = 'd', outputsize: str = 'compact'):\n",
    "    \"\"\"\n",
    "    :param ticker_list: a list of tickers for data to be extracted\n",
    "    :param col: provided string to extract the desired column type, illustrated in column_desc list\n",
    "    :param frequency: provided either daily (d), weekly (w), monthly (m) adjusted pulling\n",
    "    :param outputsize: 'compact' = 100 most recent, 'full' = historical security list\n",
    "    :return: returns a dataframe object with assigned security and their col values\n",
    "    \"\"\"\n",
    "    big_dict = {}\n",
    "    ts = TimeSeries(key=api_key, output_format='pandas') # function call from Python wrapper to extract timeseries \n",
    "    \n",
    "    for ticker in ticker_list:\n",
    "        # iterates through the security list provided and extracts relevant timeseries via dict manipulation\n",
    "        lookup_tb = {(frequency == 'd'): ts.get_daily_adjusted(symbol=ticker, outputsize=outputsize)[0][col],\n",
    "                     (frequency == 'w'): ts.get_weekly_adjusted(symbol=ticker)[0][col],\n",
    "                     (frequency == 'm'): ts.get_monthly_adjusted(symbol=ticker)[0][col]}\n",
    "\n",
    "        big_dict[ticker] = lookup_tb[True].values.tolist()  # dictionary storing security time series faster concatination \n",
    "\n",
    "    big_df = pd.DataFrame.from_dict(data=big_dict)  # returns large dataframe for list of securities\n",
    "    return big_df"
   ]
  },
  {
   "cell_type": "code",
   "execution_count": 11,
   "metadata": {},
   "outputs": [],
   "source": [
    "def log_returns(price_df: pd.DataFrame):\n",
    "    \"\"\"\n",
    "    Extracts the log returns for relevant price data\n",
    "    :param price_df: a dataframe object storing price values for a given underlying (index by date)\n",
    "    :return: a dataframe for log returns of select securities\n",
    "    \"\"\"\n",
    "    big_dict = {}\n",
    "\n",
    "    for ticker in price_df.columns:\n",
    "        # iterates through the security list provided and extract provided values via dict manipulation\n",
    "        security_list = price_df[ticker]\n",
    "        log = np.log(security_list.values) - np.log(np.roll(security_list.values, 1))  # computes log return\n",
    "        big_dict[ticker] = log[1:].tolist()\n",
    "\n",
    "    big_df = pd.DataFrame.from_dict(data=big_dict)\n",
    "    return big_df"
   ]
  },
  {
   "cell_type": "code",
   "execution_count": 12,
   "metadata": {},
   "outputs": [],
   "source": [
    "def linear_returns(price_df: pd.DataFrame):\n",
    "    \"\"\"\n",
    "    Extracts the linear returns for relevant price data \n",
    "    :param price_df: a dataframe object storing price values for a given underlying (index by date)\n",
    "    :return: a dataframe for linear returns of select securities\n",
    "    \"\"\"\n",
    "    big_dict = {}\n",
    "\n",
    "    for ticker in price_df.columns:\n",
    "        # iterates through the security list provided and extract provided values via dict manipulation\n",
    "        security_list = price_df[ticker]\n",
    "        log = np.log(security_list.values) - np.log(np.roll(security_list.values, 1))  # computes log return\n",
    "        big_dict[ticker] = log[1:].tolist()\n",
    "\n",
    "    big_df = pd.DataFrame.from_dict(data=big_dict)\n",
    "    return big_df"
   ]
  },
  {
   "cell_type": "code",
   "execution_count": null,
   "metadata": {},
   "outputs": [],
   "source": []
  },
  {
   "cell_type": "markdown",
   "metadata": {},
   "source": [
    "## RIsk Management Models"
   ]
  },
  {
   "cell_type": "code",
   "execution_count": null,
   "metadata": {},
   "outputs": [],
   "source": []
  },
  {
   "cell_type": "code",
   "execution_count": null,
   "metadata": {},
   "outputs": [],
   "source": []
  },
  {
   "cell_type": "code",
   "execution_count": null,
   "metadata": {},
   "outputs": [],
   "source": []
  },
  {
   "cell_type": "markdown",
   "metadata": {},
   "source": [
    "## Optimization Models"
   ]
  },
  {
   "cell_type": "code",
   "execution_count": null,
   "metadata": {},
   "outputs": [],
   "source": []
  }
 ],
 "metadata": {
  "kernelspec": {
   "display_name": "Python 3",
   "language": "python",
   "name": "python3"
  },
  "language_info": {
   "codemirror_mode": {
    "name": "ipython",
    "version": 3
   },
   "file_extension": ".py",
   "mimetype": "text/x-python",
   "name": "python",
   "nbconvert_exporter": "python",
   "pygments_lexer": "ipython3",
   "version": "3.7.0"
  }
 },
 "nbformat": 4,
 "nbformat_minor": 2
}
