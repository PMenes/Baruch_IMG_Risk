{
 "cells": [
  {
   "cell_type": "markdown",
   "metadata": {},
   "source": [
    "# Baruch IMG Portfolio Management Risk"
   ]
  },
  {
   "cell_type": "code",
   "execution_count": 29,
   "metadata": {},
   "outputs": [],
   "source": [
    "# Data manipulation \n",
    "import numpy as np\n",
    "import pandas as pd\n",
    "import time as t\n",
    "\n",
    "# Plotting\n",
    "import seaborn as sns\n",
    "import matplotlib.pyplot as plt\n",
    "%matplotlib inline \n",
    "\n",
    "# Stock pulling  \n",
    "from alpha_vantage.timeseries import TimeSeries"
   ]
  },
  {
   "cell_type": "markdown",
   "metadata": {},
   "source": [
    "For more information on the alpha_vantage api or the python wrapper feel free to read the documentation provided\n",
    "- AV API Docs https://www.alphavantage.co/documentation/\n",
    "- Python Wrapper by Romel https://github.com/RomelTorres/alpha_vantage\n",
    "\n",
    "**NOTE that AV API limits call requests to 5 calls to server a minute - an adapter is built in to counter**"
   ]
  },
  {
   "cell_type": "code",
   "execution_count": 4,
   "metadata": {},
   "outputs": [],
   "source": [
    "api_key = \"JAFMAHL3Q9GK8XC1\" #Alpha vantage api-key recieived throguh the service"
   ]
  },
  {
   "cell_type": "markdown",
   "metadata": {},
   "source": [
    "========================================================================================================================"
   ]
  },
  {
   "cell_type": "markdown",
   "metadata": {},
   "source": [
    "## Risk Management Helper Functions "
   ]
  },
  {
   "cell_type": "code",
   "execution_count": 5,
   "metadata": {},
   "outputs": [],
   "source": [
    "# data columns present from timeseries pull by Alpha Vantage API\n",
    "data_columns = ['1. open', '2. high', '3. low', '4. close', '5. adjusted close', \n",
    "                '6. volume', '7. dividend amount', '8. split coefficient']"
   ]
  },
  {
   "cell_type": "code",
   "execution_count": 6,
   "metadata": {},
   "outputs": [],
   "source": [
    "def stock_puller(ticker_list: list, col: str, outputsize: str = 'compact'):\n",
    "    \"\"\"\n",
    "    Extracts stock/security data from Alpha Vantage\n",
    "    :param ticker_list: a list of tickers for data to be extracted eg: ['SPY', 'GOOG', 'AAPL']\n",
    "    :param col: provided string to extract the desired column type, illustrated in column_desc list\n",
    "    :param outputsize: 'compact' = 100 most recent, 'full' = historical security list\n",
    "    :return: returns a dataframe object with relevant timeseries data (index by date, column ticker symbols)\n",
    "    \"\"\"\n",
    "    big_dict = {}\n",
    "    ts = TimeSeries(key=api_key, output_format='pandas', retries=10) # function call from Python wrapper to extract timeseries \n",
    "    \n",
    "    for ticker in ticker_list:\n",
    "        # iterates through the security list provided and extracts relevant timeseries information\n",
    "        data = ts.get_daily_adjusted(symbol=ticker, outputsize=outputsize)[0][col]\n",
    "\n",
    "        big_dict[ticker] = data.tolist()  # dictionary storing security time series for faster concatination \n",
    "        t.sleep(12)\n",
    "        \n",
    "    big_df = pd.DataFrame.from_dict(data=big_dict)  # returns large dataframe for list of securities\n",
    "    return big_df"
   ]
  },
  {
   "cell_type": "code",
   "execution_count": 7,
   "metadata": {},
   "outputs": [],
   "source": [
    "def log_returns(price_df: pd.DataFrame):\n",
    "    \"\"\"\n",
    "    Extracts the log returns for relevant price data\n",
    "    :param price_df: a dataframe object storing price values for a given underlying (index by date, column ticker symbols)\n",
    "    :return: a dataframe for log returns of select securities\n",
    "    \"\"\"\n",
    "    big_dict = {}\n",
    "\n",
    "    for ticker in price_df.columns:\n",
    "        # iterates through the security list provided and extract provided values via dict manipulation\n",
    "        security_list = price_df[ticker]\n",
    "        log = np.log(security_list.values) - np.log(np.roll(security_list.values, 1))  # computes log return \n",
    "        big_dict[ticker] = log[1:].tolist() # eliminates the first NaN row and returns list from ndarray\n",
    "\n",
    "    big_df = pd.DataFrame.from_dict(data=big_dict) # dataframe index by data column all ticker symbols\n",
    "    return big_df"
   ]
  },
  {
   "cell_type": "code",
   "execution_count": 8,
   "metadata": {},
   "outputs": [],
   "source": [
    "def linear_returns(price_df: pd.DataFrame):\n",
    "    \"\"\"\n",
    "    Extracts the linear returns for relevant price data \n",
    "    :param price_df: a dataframe object storing price values for a given underlying (index by date, column ticker symbols)\n",
    "    :return: a dataframe for linear returns of select securities\n",
    "    \"\"\"\n",
    "    big_dict = {}\n",
    "\n",
    "    for ticker in price_df.columns:\n",
    "        # iterates through the security list provided and extract provided values via dict manipulation\n",
    "        linear_ret = price_df[ticker].pct_change() # pct_change pandas function for linear returns\n",
    "        big_dict[ticker] = linear_ret[1:].tolist() # eliminates the first NaN row and returns list from ndarray \n",
    "\n",
    "    big_df = pd.DataFrame.from_dict(data=big_dict) # dataframe index by data column all ticker symbols\n",
    "    return big_df"
   ]
  },
  {
   "cell_type": "code",
   "execution_count": 9,
   "metadata": {},
   "outputs": [],
   "source": [
    "def volatility(price_df: pd.DataFrame, rolling_window: int = 10):\n",
    "    \"\"\"\n",
    "    Extracts the rolling standard deviation of log returns for price data\n",
    "    :param price_df: a dataframe object storing price values for a given underlying (index by date, column ticker symbols)\n",
    "    :return: a dataframe for linear returns of select securities\n",
    "    \"\"\"\n",
    "    log_ret = log_returns(price_df)\n",
    "    \n",
    "    big_dict = {}\n",
    "\n",
    "    for ticker in price_df.columns:\n",
    "        # iterates through the security list provided and extract provided values via dict manipulation\n",
    "        volatility = log_ret[ticker].rolling(rolling_window).std() # rolling standard deviation pandas function for log returns\n",
    "        big_dict[ticker] = volatility[rolling_window-1:].tolist() # eliminates the NaN rows and returns list from ndarray \n",
    "\n",
    "    big_df = pd.DataFrame.from_dict(data=big_dict) # dataframe index by data column all ticker symbols\n",
    "    return big_df"
   ]
  },
  {
   "cell_type": "code",
   "execution_count": 10,
   "metadata": {},
   "outputs": [],
   "source": [
    "def google_api():\n",
    "    return 1"
   ]
  },
  {
   "cell_type": "markdown",
   "metadata": {},
   "source": [
    "========================================================================================================================"
   ]
  },
  {
   "cell_type": "markdown",
   "metadata": {},
   "source": [
    "### Variable Assignment"
   ]
  },
  {
   "cell_type": "code",
   "execution_count": 11,
   "metadata": {},
   "outputs": [],
   "source": [
    "portfolio_list = ['SPY', 'QQQ', 'HYG']"
   ]
  },
  {
   "cell_type": "code",
   "execution_count": 12,
   "metadata": {},
   "outputs": [],
   "source": [
    "data = stock_puller(ticker_list=portfolio_list, col='5. adjusted close')"
   ]
  },
  {
   "cell_type": "code",
   "execution_count": 13,
   "metadata": {},
   "outputs": [
    {
     "data": {
      "text/html": [
       "<div>\n",
       "<style scoped>\n",
       "    .dataframe tbody tr th:only-of-type {\n",
       "        vertical-align: middle;\n",
       "    }\n",
       "\n",
       "    .dataframe tbody tr th {\n",
       "        vertical-align: top;\n",
       "    }\n",
       "\n",
       "    .dataframe thead th {\n",
       "        text-align: right;\n",
       "    }\n",
       "</style>\n",
       "<table border=\"1\" class=\"dataframe\">\n",
       "  <thead>\n",
       "    <tr style=\"text-align: right;\">\n",
       "      <th></th>\n",
       "      <th>SPY</th>\n",
       "      <th>QQQ</th>\n",
       "      <th>HYG</th>\n",
       "    </tr>\n",
       "  </thead>\n",
       "  <tbody>\n",
       "    <tr>\n",
       "      <th>0</th>\n",
       "      <td>288.9668</td>\n",
       "      <td>185.2869</td>\n",
       "      <td>84.3968</td>\n",
       "    </tr>\n",
       "    <tr>\n",
       "      <th>1</th>\n",
       "      <td>288.9966</td>\n",
       "      <td>185.2470</td>\n",
       "      <td>84.4554</td>\n",
       "    </tr>\n",
       "    <tr>\n",
       "      <th>2</th>\n",
       "      <td>290.0006</td>\n",
       "      <td>185.6259</td>\n",
       "      <td>84.6989</td>\n",
       "    </tr>\n",
       "    <tr>\n",
       "      <th>3</th>\n",
       "      <td>289.8316</td>\n",
       "      <td>185.2071</td>\n",
       "      <td>84.6302</td>\n",
       "    </tr>\n",
       "    <tr>\n",
       "      <th>4</th>\n",
       "      <td>289.9907</td>\n",
       "      <td>185.4066</td>\n",
       "      <td>84.4044</td>\n",
       "    </tr>\n",
       "  </tbody>\n",
       "</table>\n",
       "</div>"
      ],
      "text/plain": [
       "        SPY       QQQ      HYG\n",
       "0  288.9668  185.2869  84.3968\n",
       "1  288.9966  185.2470  84.4554\n",
       "2  290.0006  185.6259  84.6989\n",
       "3  289.8316  185.2071  84.6302\n",
       "4  289.9907  185.4066  84.4044"
      ]
     },
     "execution_count": 13,
     "metadata": {},
     "output_type": "execute_result"
    }
   ],
   "source": [
    "data.head()"
   ]
  },
  {
   "cell_type": "code",
   "execution_count": null,
   "metadata": {},
   "outputs": [],
   "source": []
  },
  {
   "cell_type": "markdown",
   "metadata": {},
   "source": [
    "========================================================================================================================"
   ]
  },
  {
   "cell_type": "markdown",
   "metadata": {},
   "source": [
    "## RIsk Management Models"
   ]
  },
  {
   "cell_type": "code",
   "execution_count": 45,
   "metadata": {},
   "outputs": [
    {
     "data": {
      "image/png": "[encoded data removed]",
      "text/plain": [
       "<Figure size 432x288 with 2 Axes>"
      ]
     },
     "metadata": {
      "needs_background": "light"
     },
     "output_type": "display_data"
    }
   ],
   "source": [
    "lr = log_returns(price_df=data).corr(method='pearson')\n",
    "plt.title('Log Return Correlation')\n",
    "sns.heatmap(lr, annot=True)\n",
    "plt.show()"
   ]
  },
  {
   "cell_type": "code",
   "execution_count": 44,
   "metadata": {},
   "outputs": [
    {
     "data": {
      "image/png": "[encoded data removed]",
      "text/plain": [
       "<Figure size 432x288 with 2 Axes>"
      ]
     },
     "metadata": {
      "needs_background": "light"
     },
     "output_type": "display_data"
    }
   ],
   "source": [
    "vol = volatility(price_df=data).corr(method='pearson')\n",
    "plt.title('Volatility Correlation')\n",
    "sns.heatmap(vol, annot=True)\n",
    "plt.show()"
   ]
  },
  {
   "cell_type": "code",
   "execution_count": 57,
   "metadata": {},
   "outputs": [],
   "source": [
    "def VaR():\n",
    "    return 1"
   ]
  },
  {
   "cell_type": "code",
   "execution_count": 58,
   "metadata": {},
   "outputs": [],
   "source": [
    "def CVaR():\n",
    "    return 1"
   ]
  },
  {
   "cell_type": "markdown",
   "metadata": {},
   "source": [
    "Let $r$ be the (random) return of a portfolio and $r_M$ the return of the market portfolio at investment horizon. The portfolio's $\\beta$ is defined by the ratio \n",
    "\n",
    "$$\n",
    "\\beta := \\frac{cov(r, r_M)}{\\sigma_M^2} = \\rho \\frac{\\sigma}{\\sigma_M},\n",
    "$$\n",
    "\n",
    "where $\\rho$ is the correlation coefficient between $r$ and $r_M$. \n",
    "\n",
    "In particular, if $r_n$ is the linear return of the risky asset $n$, then $\\beta_n := \\frac{cov(r_n, r_M)}{\\sigma_M^2}$ is the beta of risky asset $n$."
   ]
  },
  {
   "cell_type": "code",
   "execution_count": 61,
   "metadata": {},
   "outputs": [],
   "source": [
    "def Beta():\n",
    "    return 1"
   ]
  },
  {
   "cell_type": "markdown",
   "metadata": {},
   "source": [
    "========================================================================================================================"
   ]
  },
  {
   "cell_type": "markdown",
   "metadata": {},
   "source": [
    "## Optimization Models"
   ]
  },
  {
   "cell_type": "markdown",
   "metadata": {},
   "source": [
    "### Minimum variance portfolio (MVP)\n",
    "\n",
    "The weights $w_{mvp}$ for minimum variance portfolio is determined by the solution to the constrained optimization problem \n",
    "\n",
    "$$\n",
    "\\min_{w} w^{T} \\Sigma w\n",
    "$$\n",
    "\n",
    "subject to \n",
    "\n",
    "$$\n",
    "w^{T}u = 1.\n",
    "$$\n",
    "\n",
    "By applying the method of Lagrange multiplier, we obtain the solution as \n",
    "\n",
    "$$\n",
    "w_{mvp} = \\frac{\\Sigma^{-1} u}{u' \\Sigma^{-1} u}.\n",
    "$$\n",
    "\n",
    "The expected return $\\ell_{mvp}$ and the variance $\\sigma_{mvp}^2$ of the minimum variance portfolio are given by \n",
    "\n",
    "\\begin{eqnarray*}\n",
    "&& \\ell_{mvp} = w_{mvp}' \\, \\ell = \\frac{u' \\Sigma^{-1}\\ell}{u^{T} \\Sigma^{-1}u}, \\\\\n",
    "&& \\sigma_{mvp}^2 = w_{mvp}' \\, \\Sigma \\, w_{mvp} = \\frac1{u^{T} \\Sigma^{-1}u}. \n",
    "\\end{eqnarray*}"
   ]
  },
  {
   "cell_type": "code",
   "execution_count": 60,
   "metadata": {},
   "outputs": [],
   "source": [
    "def MVP():\n",
    "    return 1"
   ]
  },
  {
   "cell_type": "markdown",
   "metadata": {},
   "source": [
    "### Market Portfolio\n"
   ]
  },
  {
   "cell_type": "code",
   "execution_count": 30,
   "metadata": {},
   "outputs": [],
   "source": [
    "def eff(cov: np.matrix, mu: np.array, target: float):\n",
    "    \"\"\"\n",
    "    Given target return, determine the weights of the portfolio with the smallest variance\n",
    "    :param cov: provided covariance matrix for the underlying securities (np.matrix object)\n",
    "    :param mu: expected returns/historical returns for underlying securities (np.array object)\n",
    "    :param target: target portfolio return for basket of securites (float object)\n",
    "    :return: \n",
    "    \"\"\"\n",
    "    assert 0 < target\n",
    "    \n",
    "    base = np.ones(len(mu))\n",
    "    inv = np.linalg.inv(cov)\n",
    "    \n",
    "    A = base.dot(cov).dot(mu).item(0)\n",
    "    B = mu.dot(cov).dot(mu).item(0)\n",
    "    C = base.dot(cov).dot(base).item(0)\n",
    "    D = B*C-A**2\n",
    "    \n",
    "    left = ((B*inv).dot(base) - (A*inv).dot(mu))/D\n",
    "    right = target * ((C*inv).dot(mu)-(A*inv).dot(base))/D\n",
    "    \n",
    "    return left + right\n",
    "    "
   ]
  },
  {
   "cell_type": "code",
   "execution_count": 54,
   "metadata": {},
   "outputs": [],
   "source": [
    "# variable assignment \n",
    "mu = np.array([0.3, 0.4, 0.2])\n",
    "target = 0.45\n",
    "cov = np.matrix([[0.4, 0.3, 0.1],[0.3, 0.5, 0.2],[0.1, 0.2, 0.1]])"
   ]
  },
  {
   "cell_type": "code",
   "execution_count": 55,
   "metadata": {},
   "outputs": [
    {
     "data": {
      "text/plain": [
       "matrix([[ -381.25,  1481.25, -3006.25]])"
      ]
     },
     "execution_count": 55,
     "metadata": {},
     "output_type": "execute_result"
    }
   ],
   "source": [
    "eff(cov, mu, target)"
   ]
  },
  {
   "cell_type": "code",
   "execution_count": null,
   "metadata": {},
   "outputs": [],
   "source": []
  },
  {
   "cell_type": "code",
   "execution_count": null,
   "metadata": {},
   "outputs": [],
   "source": []
  }
 ],
 "metadata": {
  "kernelspec": {
   "display_name": "Python 3",
   "language": "python",
   "name": "python3"
  },
  "language_info": {
   "codemirror_mode": {
    "name": "ipython",
    "version": 3
   },
   "file_extension": ".py",
   "mimetype": "text/x-python",
   "name": "python",
   "nbconvert_exporter": "python",
   "pygments_lexer": "ipython3",
   "version": "3.7.0"
  }
 },
 "nbformat": 4,
 "nbformat_minor": 2
}
