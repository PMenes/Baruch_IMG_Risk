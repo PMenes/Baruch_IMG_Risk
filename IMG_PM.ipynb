{
 "cells": [
  {
   "cell_type": "markdown",
   "metadata": {},
   "source": [
    "# Baruch IMG Portfolio Management Risk"
   ]
  },
  {
   "cell_type": "code",
   "execution_count": 1,
   "metadata": {},
   "outputs": [],
   "source": [
    "# Data manipulation \n",
    "import numpy as np\n",
    "import pandas as pd\n",
    "import time as t\n",
    "\n",
    "# Plotting\n",
    "import seaborn as sns\n",
    "import matplotlib.pyplot as plt\n",
    "%matplotlib inline \n",
    "\n",
    "# Stock pulling  \n",
    "from alpha_vantage.timeseries import TimeSeries"
   ]
  },
  {
   "cell_type": "markdown",
   "metadata": {},
   "source": [
    "For more information on the alpha_vantage api or the python wrapper feel free to read the documentation provided\n",
    "- AV API Docs https://www.alphavantage.co/documentation/\n",
    "- Python Wrapper by Romel https://github.com/RomelTorres/alpha_vantage\n",
    "\n",
    "**NOTE that AV API limits call requests to 5 calls to server a minute - an adapter is built in to counter**"
   ]
  },
  {
   "cell_type": "code",
   "execution_count": 2,
   "metadata": {},
   "outputs": [],
   "source": [
    "api_key = \"API KEY\" #Alpha vantage api-key recieived throguh the service"
   ]
  },
  {
   "cell_type": "markdown",
   "metadata": {},
   "source": [
    "========================================================================================================================"
   ]
  },
  {
   "cell_type": "markdown",
   "metadata": {},
   "source": [
    "## Risk Management Helper Functions "
   ]
  },
  {
   "cell_type": "code",
   "execution_count": 3,
   "metadata": {},
   "outputs": [],
   "source": [
    "# data columns present from timeseries pull by Alpha Vantage API\n",
    "data_columns = ['1. open', '2. high', '3. low', '4. close', '5. adjusted close', \n",
    "                '6. volume', '7. dividend amount', '8. split coefficient']"
   ]
  },
  {
   "cell_type": "code",
   "execution_count": 4,
   "metadata": {},
   "outputs": [],
   "source": [
    "def stock_puller(ticker_list: list, col: str, outputsize: str = 'compact'):\n",
    "    \"\"\"\n",
    "    Extracts stock/security data from Alpha Vantage\n",
    "    :param ticker_list: a list of tickers for data to be extracted eg: ['SPY', 'GOOG', 'AAPL']\n",
    "    :param col: provided string to extract the desired column type, illustrated in column_desc list\n",
    "    :param outputsize: 'compact' = 100 most recent, 'full' = historical security list\n",
    "    :return: returns a dataframe object with relevant timeseries data (index by date, column ticker symbols)\n",
    "    \"\"\"\n",
    "    big_dict = {}\n",
    "    ts = TimeSeries(key=api_key, output_format='pandas', retries=10) # function call from Python wrapper to extract timeseries \n",
    "    \n",
    "    for ticker in ticker_list:\n",
    "        # iterates through the security list provided and extracts relevant timeseries information\n",
    "        data = ts.get_daily_adjusted(symbol=ticker, outputsize=outputsize)[0][col]\n",
    "\n",
    "        big_dict[ticker] = data.tolist()  # dictionary storing security time series for faster concatination \n",
    "        t.sleep(12)\n",
    "        \n",
    "    big_df = pd.DataFrame.from_dict(data=big_dict)  # returns large dataframe for list of securities\n",
    "    return big_df"
   ]
  },
  {
   "cell_type": "code",
   "execution_count": 5,
   "metadata": {},
   "outputs": [],
   "source": [
    "def log_returns(price_df: pd.DataFrame):\n",
    "    \"\"\"\n",
    "    Extracts the log returns for relevant price data\n",
    "    :param price_df: a dataframe object storing price values for a given underlying (index by date, column ticker symbols)\n",
    "    :return: a dataframe for log returns of select securities\n",
    "    \"\"\"\n",
    "    big_dict = {}\n",
    "\n",
    "    for ticker in price_df.columns:\n",
    "        # iterates through the security list provided and extract provided values via dict manipulation\n",
    "        security_list = price_df[ticker]\n",
    "        log = np.log(security_list.values) - np.log(np.roll(security_list.values, 1))  # computes log return \n",
    "        big_dict[ticker] = log[1:].tolist() # eliminates the first NaN row and returns list from ndarray\n",
    "\n",
    "    big_df = pd.DataFrame.from_dict(data=big_dict) # dataframe index by data column all ticker symbols\n",
    "    return big_df"
   ]
  },
  {
   "cell_type": "code",
   "execution_count": 6,
   "metadata": {},
   "outputs": [],
   "source": [
    "def linear_returns(price_df: pd.DataFrame):\n",
    "    \"\"\"\n",
    "    Extracts the linear returns for relevant price data \n",
    "    :param price_df: a dataframe object storing price values for a given underlying (index by date, column ticker symbols)\n",
    "    :return: a dataframe for linear returns of select securities\n",
    "    \"\"\"\n",
    "    big_dict = {}\n",
    "\n",
    "    for ticker in price_df.columns:\n",
    "        # iterates through the security list provided and extract provided values via dict manipulation\n",
    "        linear_ret = price_df[ticker].pct_change() # pct_change pandas function for linear returns\n",
    "        big_dict[ticker] = linear_ret[1:].tolist() # eliminates the first NaN row and returns list from ndarray \n",
    "\n",
    "    big_df = pd.DataFrame.from_dict(data=big_dict) # dataframe index by data column all ticker symbols\n",
    "    return big_df"
   ]
  },
  {
   "cell_type": "code",
   "execution_count": 7,
   "metadata": {},
   "outputs": [],
   "source": [
    "def volatility(price_df: pd.DataFrame, rolling_window: int = 10):\n",
    "    \"\"\"\n",
    "    Extracts the rolling standard deviation of log returns for price data\n",
    "    :param price_df: a dataframe object storing price values for a given underlying (index by date, column ticker symbols)\n",
    "    :return: a dataframe for linear returns of select securities\n",
    "    \"\"\"\n",
    "    log_ret = log_returns(price_df)\n",
    "    \n",
    "    big_dict = {}\n",
    "\n",
    "    for ticker in price_df.columns:\n",
    "        # iterates through the security list provided and extract provided values via dict manipulation\n",
    "        volatility = log_ret[ticker].rolling(rolling_window).std() # rolling standard deviation pandas function for log returns\n",
    "        big_dict[ticker] = volatility[rolling_window-1:].tolist() # eliminates the NaN rows and returns list from ndarray \n",
    "\n",
    "    big_df = pd.DataFrame.from_dict(data=big_dict) # dataframe index by data column all ticker symbols\n",
    "    return big_df"
   ]
  },
  {
   "cell_type": "code",
   "execution_count": 8,
   "metadata": {},
   "outputs": [],
   "source": [
    "def google_api():\n",
    "    return 1"
   ]
  },
  {
   "cell_type": "markdown",
   "metadata": {},
   "source": [
    "========================================================================================================================"
   ]
  },
  {
   "cell_type": "markdown",
   "metadata": {},
   "source": [
    "### Data Wrangling (Portfolio Selection)"
   ]
  },
  {
   "cell_type": "code",
   "execution_count": 9,
   "metadata": {},
   "outputs": [],
   "source": [
    "portfolio_list = ['SPY', 'QQQ', 'HYG']"
   ]
  },
  {
   "cell_type": "code",
   "execution_count": 10,
   "metadata": {},
   "outputs": [],
   "source": [
    "data = stock_puller(ticker_list=portfolio_list, col='5. adjusted close', outputsize='compact')"
   ]
  },
  {
   "cell_type": "code",
   "execution_count": 29,
   "metadata": {},
   "outputs": [
    {
     "data": {
      "text/html": [
       "<div>\n",
       "<style scoped>\n",
       "    .dataframe tbody tr th:only-of-type {\n",
       "        vertical-align: middle;\n",
       "    }\n",
       "\n",
       "    .dataframe tbody tr th {\n",
       "        vertical-align: top;\n",
       "    }\n",
       "\n",
       "    .dataframe thead th {\n",
       "        text-align: right;\n",
       "    }\n",
       "</style>\n",
       "<table border=\"1\" class=\"dataframe\">\n",
       "  <thead>\n",
       "    <tr style=\"text-align: right;\">\n",
       "      <th></th>\n",
       "      <th>SPY</th>\n",
       "      <th>QQQ</th>\n",
       "      <th>HYG</th>\n",
       "    </tr>\n",
       "  </thead>\n",
       "  <tbody>\n",
       "    <tr>\n",
       "      <th>0</th>\n",
       "      <td>288.9966</td>\n",
       "      <td>185.2470</td>\n",
       "      <td>84.4554</td>\n",
       "    </tr>\n",
       "    <tr>\n",
       "      <th>1</th>\n",
       "      <td>290.0006</td>\n",
       "      <td>185.6259</td>\n",
       "      <td>84.6989</td>\n",
       "    </tr>\n",
       "    <tr>\n",
       "      <th>2</th>\n",
       "      <td>289.8316</td>\n",
       "      <td>185.2071</td>\n",
       "      <td>84.6302</td>\n",
       "    </tr>\n",
       "    <tr>\n",
       "      <th>3</th>\n",
       "      <td>289.9907</td>\n",
       "      <td>185.4066</td>\n",
       "      <td>84.4044</td>\n",
       "    </tr>\n",
       "    <tr>\n",
       "      <th>4</th>\n",
       "      <td>287.7242</td>\n",
       "      <td>181.8470</td>\n",
       "      <td>84.0904</td>\n",
       "    </tr>\n",
       "  </tbody>\n",
       "</table>\n",
       "</div>"
      ],
      "text/plain": [
       "        SPY       QQQ      HYG\n",
       "0  288.9966  185.2470  84.4554\n",
       "1  290.0006  185.6259  84.6989\n",
       "2  289.8316  185.2071  84.6302\n",
       "3  289.9907  185.4066  84.4044\n",
       "4  287.7242  181.8470  84.0904"
      ]
     },
     "execution_count": 29,
     "metadata": {},
     "output_type": "execute_result"
    }
   ],
   "source": [
    "data.head()"
   ]
  },
  {
   "cell_type": "code",
   "execution_count": 36,
   "metadata": {},
   "outputs": [],
   "source": [
    "exp_ret = pd.DataFrame(linear_returns(data).mean() * len(data)).transpose()"
   ]
  },
  {
   "cell_type": "code",
   "execution_count": 46,
   "metadata": {},
   "outputs": [
    {
     "data": {
      "text/html": [
       "<div>\n",
       "<style scoped>\n",
       "    .dataframe tbody tr th:only-of-type {\n",
       "        vertical-align: middle;\n",
       "    }\n",
       "\n",
       "    .dataframe tbody tr th {\n",
       "        vertical-align: top;\n",
       "    }\n",
       "\n",
       "    .dataframe thead th {\n",
       "        text-align: right;\n",
       "    }\n",
       "</style>\n",
       "<table border=\"1\" class=\"dataframe\">\n",
       "  <thead>\n",
       "    <tr style=\"text-align: right;\">\n",
       "      <th></th>\n",
       "      <th>SPY</th>\n",
       "      <th>QQQ</th>\n",
       "      <th>HYG</th>\n",
       "    </tr>\n",
       "  </thead>\n",
       "  <tbody>\n",
       "    <tr>\n",
       "      <th>0</th>\n",
       "      <td>-0.026192</td>\n",
       "      <td>-0.052883</td>\n",
       "      <td>0.014461</td>\n",
       "    </tr>\n",
       "  </tbody>\n",
       "</table>\n",
       "</div>"
      ],
      "text/plain": [
       "        SPY       QQQ       HYG\n",
       "0 -0.026192 -0.052883  0.014461"
      ]
     },
     "execution_count": 46,
     "metadata": {},
     "output_type": "execute_result"
    }
   ],
   "source": [
    "exp_ret"
   ]
  },
  {
   "cell_type": "code",
   "execution_count": 38,
   "metadata": {},
   "outputs": [],
   "source": [
    "cov = data.corr()"
   ]
  },
  {
   "cell_type": "code",
   "execution_count": 47,
   "metadata": {},
   "outputs": [
    {
     "data": {
      "text/html": [
       "<div>\n",
       "<style scoped>\n",
       "    .dataframe tbody tr th:only-of-type {\n",
       "        vertical-align: middle;\n",
       "    }\n",
       "\n",
       "    .dataframe tbody tr th {\n",
       "        vertical-align: top;\n",
       "    }\n",
       "\n",
       "    .dataframe thead th {\n",
       "        text-align: right;\n",
       "    }\n",
       "</style>\n",
       "<table border=\"1\" class=\"dataframe\">\n",
       "  <thead>\n",
       "    <tr style=\"text-align: right;\">\n",
       "      <th></th>\n",
       "      <th>SPY</th>\n",
       "      <th>QQQ</th>\n",
       "      <th>HYG</th>\n",
       "    </tr>\n",
       "  </thead>\n",
       "  <tbody>\n",
       "    <tr>\n",
       "      <th>SPY</th>\n",
       "      <td>1.000000</td>\n",
       "      <td>0.977436</td>\n",
       "      <td>0.727187</td>\n",
       "    </tr>\n",
       "    <tr>\n",
       "      <th>QQQ</th>\n",
       "      <td>0.977436</td>\n",
       "      <td>1.000000</td>\n",
       "      <td>0.727662</td>\n",
       "    </tr>\n",
       "    <tr>\n",
       "      <th>HYG</th>\n",
       "      <td>0.727187</td>\n",
       "      <td>0.727662</td>\n",
       "      <td>1.000000</td>\n",
       "    </tr>\n",
       "  </tbody>\n",
       "</table>\n",
       "</div>"
      ],
      "text/plain": [
       "          SPY       QQQ       HYG\n",
       "SPY  1.000000  0.977436  0.727187\n",
       "QQQ  0.977436  1.000000  0.727662\n",
       "HYG  0.727187  0.727662  1.000000"
      ]
     },
     "execution_count": 47,
     "metadata": {},
     "output_type": "execute_result"
    }
   ],
   "source": [
    "cov # covariance matrix for calculations later"
   ]
  },
  {
   "cell_type": "markdown",
   "metadata": {},
   "source": [
    "========================================================================================================================"
   ]
  },
  {
   "cell_type": "code",
   "execution_count": 12,
   "metadata": {},
   "outputs": [
    {
     "data": {
      "image/png": "[encoded data removed]",
      "text/plain": [
       "<Figure size 432x288 with 2 Axes>"
      ]
     },
     "metadata": {
      "needs_background": "light"
     },
     "output_type": "display_data"
    }
   ],
   "source": [
    "lr = log_returns(price_df=data).corr(method='pearson')\n",
    "plt.title('Log Return Correlation')\n",
    "sns.heatmap(lr, annot=True)\n",
    "plt.show()"
   ]
  },
  {
   "cell_type": "code",
   "execution_count": 13,
   "metadata": {},
   "outputs": [
    {
     "data": {
      "image/png": "[encoded data removed]",
      "text/plain": [
       "<Figure size 432x288 with 2 Axes>"
      ]
     },
     "metadata": {
      "needs_background": "light"
     },
     "output_type": "display_data"
    }
   ],
   "source": [
    "vol = volatility(price_df=data).corr(method='pearson')\n",
    "plt.title('Volatility Correlation')\n",
    "sns.heatmap(vol, annot=True)\n",
    "plt.show()"
   ]
  },
  {
   "cell_type": "markdown",
   "metadata": {},
   "source": [
    "## RIsk Management Models"
   ]
  },
  {
   "cell_type": "code",
   "execution_count": 57,
   "metadata": {},
   "outputs": [],
   "source": [
    "def VaR():\n",
    "    return 1"
   ]
  },
  {
   "cell_type": "code",
   "execution_count": 58,
   "metadata": {},
   "outputs": [],
   "source": [
    "def CVaR():\n",
    "    return 1"
   ]
  },
  {
   "cell_type": "markdown",
   "metadata": {},
   "source": [
    "Let $r$ be the (random) return of a portfolio and $r_M$ the return of the market portfolio at investment horizon. The portfolio's $\\beta$ is defined by the ratio \n",
    "\n",
    "$$\n",
    "\\beta := \\frac{cov(r, r_M)}{\\sigma_M^2} = \\rho \\frac{\\sigma}{\\sigma_M},\n",
    "$$\n",
    "\n",
    "where $\\rho$ is the correlation coefficient between $r$ and $r_M$. \n",
    "\n",
    "In particular, if $r_n$ is the linear return of the risky asset $n$, then $\\beta_n := \\frac{cov(r_n, r_M)}{\\sigma_M^2}$ is the beta of risky asset $n$."
   ]
  },
  {
   "cell_type": "code",
   "execution_count": 61,
   "metadata": {},
   "outputs": [],
   "source": [
    "def Beta():\n",
    "    return 1"
   ]
  },
  {
   "cell_type": "markdown",
   "metadata": {},
   "source": [
    "========================================================================================================================"
   ]
  },
  {
   "cell_type": "markdown",
   "metadata": {},
   "source": [
    "## Optimization Models\n",
    "The following scripts are used for optimizing a given portfolio in a purely quantitative scenario. Our goal is to construct models as to compare current portfolio weights, to help guide portfolio management and decisions regarding whether to sell positions believed to be theoretically overweight."
   ]
  },
  {
   "cell_type": "markdown",
   "metadata": {},
   "source": [
    "#### Minimum variance portfolio (MVP)"
   ]
  },
  {
   "cell_type": "code",
   "execution_count": 60,
   "metadata": {},
   "outputs": [],
   "source": [
    "def MVP():\n",
    "    base = np.ones(len(mu))\n",
    "    return 1"
   ]
  },
  {
   "cell_type": "markdown",
   "metadata": {},
   "source": [
    "#### Market Portfolio Optimization (MPO)\n"
   ]
  },
  {
   "cell_type": "code",
   "execution_count": 86,
   "metadata": {},
   "outputs": [],
   "source": [
    "def mpo(cov: np.matrix, mu: np.array, risk_free: float):\n",
    "    \"\"\"\n",
    "    Given target return, determine the weights of the portfolio with the smallest variance\n",
    "    :param cov: provided covariance matrix for the underlying securities (np.matrix object)\n",
    "    :param mu: expected returns/historical returns for underlying securities (np.array object)\n",
    "    :param target: current risk_free rate in 10 year bonds\n",
    "    :return: a dict containing the weights of the provided portfolio\n",
    "    \"\"\"\n",
    "    assert 0 < risk_free < 1\n",
    "\n",
    "    base = np.ones(len(mu[0]))\n",
    "    inv = np.linalg.inv(cov)\n",
    "    \n",
    "    num = (mu-risk_free*base).dot(inv)\n",
    "    den = base.dot(inv).dot((mu-risk_free*base))\n",
    "    \n",
    "    return num/den"
   ]
  },
  {
   "cell_type": "code",
   "execution_count": 87,
   "metadata": {},
   "outputs": [
    {
     "ename": "ValueError",
     "evalue": "shapes (3,) and (1,3) not aligned: 3 (dim 0) != 1 (dim 0)",
     "output_type": "error",
     "traceback": [
      "\u001b[1;31m---------------------------------------------------------------------------\u001b[0m",
      "\u001b[1;31mValueError\u001b[0m                                Traceback (most recent call last)",
      "\u001b[1;32m<ipython-input-87-54e406a6f20f>\u001b[0m in \u001b[0;36m<module>\u001b[1;34m\u001b[0m\n\u001b[1;32m----> 1\u001b[1;33m \u001b[0mmpo\u001b[0m\u001b[1;33m(\u001b[0m\u001b[0mcov\u001b[0m\u001b[1;33m.\u001b[0m\u001b[0mvalues\u001b[0m\u001b[1;33m,\u001b[0m \u001b[0mexp_ret\u001b[0m\u001b[1;33m.\u001b[0m\u001b[0mvalues\u001b[0m\u001b[1;33m,\u001b[0m \u001b[1;36m0.0266\u001b[0m\u001b[1;33m)\u001b[0m\u001b[1;33m\u001b[0m\u001b[0m\n\u001b[0m",
      "\u001b[1;32m<ipython-input-86-b881667300a3>\u001b[0m in \u001b[0;36mmpo\u001b[1;34m(cov, mu, risk_free)\u001b[0m\n\u001b[0;32m     13\u001b[0m \u001b[1;33m\u001b[0m\u001b[0m\n\u001b[0;32m     14\u001b[0m     \u001b[0mnum\u001b[0m \u001b[1;33m=\u001b[0m \u001b[1;33m(\u001b[0m\u001b[0mmu\u001b[0m\u001b[1;33m-\u001b[0m\u001b[0mrisk_free\u001b[0m\u001b[1;33m*\u001b[0m\u001b[0mbase\u001b[0m\u001b[1;33m)\u001b[0m\u001b[1;33m.\u001b[0m\u001b[0mdot\u001b[0m\u001b[1;33m(\u001b[0m\u001b[0minv\u001b[0m\u001b[1;33m)\u001b[0m\u001b[1;33m\u001b[0m\u001b[0m\n\u001b[1;32m---> 15\u001b[1;33m     \u001b[0mden\u001b[0m \u001b[1;33m=\u001b[0m \u001b[0mbase\u001b[0m\u001b[1;33m.\u001b[0m\u001b[0mdot\u001b[0m\u001b[1;33m(\u001b[0m\u001b[0minv\u001b[0m\u001b[1;33m)\u001b[0m\u001b[1;33m.\u001b[0m\u001b[0mdot\u001b[0m\u001b[1;33m(\u001b[0m\u001b[1;33m(\u001b[0m\u001b[0mmu\u001b[0m\u001b[1;33m-\u001b[0m\u001b[0mrisk_free\u001b[0m\u001b[1;33m*\u001b[0m\u001b[0mbase\u001b[0m\u001b[1;33m)\u001b[0m\u001b[1;33m)\u001b[0m\u001b[1;33m\u001b[0m\u001b[0m\n\u001b[0m\u001b[0;32m     16\u001b[0m \u001b[1;33m\u001b[0m\u001b[0m\n\u001b[0;32m     17\u001b[0m     \u001b[1;32mreturn\u001b[0m \u001b[0mnum\u001b[0m\u001b[1;33m/\u001b[0m\u001b[0mden\u001b[0m\u001b[1;33m\u001b[0m\u001b[0m\n",
      "\u001b[1;31mValueError\u001b[0m: shapes (3,) and (1,3) not aligned: 3 (dim 0) != 1 (dim 0)"
     ]
    }
   ],
   "source": [
    "mpo(cov.values, exp_ret.values, 0.0266)"
   ]
  },
  {
   "cell_type": "code",
   "execution_count": null,
   "metadata": {},
   "outputs": [],
   "source": []
  },
  {
   "cell_type": "code",
   "execution_count": null,
   "metadata": {},
   "outputs": [],
   "source": []
  }
 ],
 "metadata": {
  "kernelspec": {
   "display_name": "Python 3",
   "language": "python",
   "name": "python3"
  },
  "language_info": {
   "codemirror_mode": {
    "name": "ipython",
    "version": 3
   },
   "file_extension": ".py",
   "mimetype": "text/x-python",
   "name": "python",
   "nbconvert_exporter": "python",
   "pygments_lexer": "ipython3",
   "version": "3.7.0"
  }
 },
 "nbformat": 4,
 "nbformat_minor": 2
}
